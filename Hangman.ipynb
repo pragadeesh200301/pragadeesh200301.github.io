{
 "cells": [
  {
   "cell_type": "code",
   "execution_count": null,
   "metadata": {},
   "outputs": [],
   "source": []
  },
  {
   "cell_type": "code",
   "execution_count": null,
   "metadata": {},
   "outputs": [
    {
     "name": "stdout",
     "output_type": "stream",
     "text": [
      "The letter is not there in the word.\n",
      "The letter is not there in the word.\n",
      "The letter is not there in the word.\n",
      "You're out of guessed. The word is  hello\n"
     ]
    }
   ],
   "source": [
    "import random\n",
    "list_of_words = [\"apple\", \"hello\", \"socks\"]\n",
    "word_of_interest = random.choice(list_of_words)\n",
    "word_of_interest_array = list(word_of_interest)\n",
    "chances = 3\n",
    "length = len(word_of_interest_array)\n",
    "guessed_letters = list([\"_\"] * length)\n",
    "while chances > 0 and \"_\" in guessed_letters:\n",
    "    letter = input(\"Enter a letter: \")\n",
    "    if letter in word_of_interest_array:\n",
    "        for i in range(length):\n",
    "            if word_of_interest_array[i] == letter:\n",
    "                guessed_letters[i] = letter\n",
    "                print(\"The letter exists in the word.\")\n",
    "    else:\n",
    "        print(\"The letter is not there in the word.\")\n",
    "        chances -=1\n",
    "if chances == 0 and \"_\"in guessed_letters:\n",
    "    print(\"You're out of guessed. The word is \", word_of_interest)\n",
    "if \"_\" not in guessed_letters:\n",
    "    print(\"You guessed it right! The word is \", word_of_interest)"
   ]
  }
 ],
 "metadata": {
  "kernelspec": {
   "display_name": "base",
   "language": "python",
   "name": "python3"
  },
  "language_info": {
   "codemirror_mode": {
    "name": "ipython",
    "version": 3
   },
   "file_extension": ".py",
   "mimetype": "text/x-python",
   "name": "python",
   "nbconvert_exporter": "python",
   "pygments_lexer": "ipython3",
   "version": "3.11.7"
  }
 },
 "nbformat": 4,
 "nbformat_minor": 2
}
